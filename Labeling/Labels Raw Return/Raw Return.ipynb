{
 "cells": [
  {
   "cell_type": "markdown",
   "metadata": {},
   "source": [
    "# Labeling: Raw Returns\n",
    "\n",
    "![image_example](img/Raw_returns_distribution.png)\n",
    "_*Fig. 1:*_ Distribution of daily logarithmic returns for MSFT between Jan 2010 and May 2020.\n",
    "\n",
    "\n",
    "## Abstract\n",
    "\n",
    "Labeling data by raw returns is the most simple and basic method of labeling financial data for machine learning. Raw returns can be calculated either on a simple or logarithmic basis. Using returns rather than prices is usually preferred for financial time series data because returns are usually stationary, unlike prices. This means that returns across different assets, or the same asset at different times, can be directly compared with each other. The same cannot be said of price differences, since the magnitude of the price change is highly dependent on the preceding price, which varies with time.\n",
    "\n",
    "\n",
    "## How it works\n",
    "\n",
    "The simple raw return for an observation with\n",
    "price $p_t$ at time $t$ relative to its price at time $t-1$ is as follows:\n",
    "\n",
    "$$\n",
    "    r_t = \\frac{p_{t}}{p_{t-1}} - 1\n",
    "$$\n",
    "\n",
    "The logarithmic return is:\n",
    "\n",
    "$$\n",
    "    r_t = log(p_t) - log(p_{t-1})\n",
    "$$\n",
    "\n",
    "If categorical labels are desired:\n",
    "\n",
    "$$\n",
    "     \\begin{equation}\n",
    "     \\begin{split}\n",
    "       L_{t} = \\begin{cases}\n",
    "       -1 &\\ \\text{if} \\ \\ r_t < 0\\\\\n",
    "       0 &\\ \\text{if} \\ \\ r_t = 0\\\\\n",
    "       1 &\\ \\text{if} \\ \\ r_t > 0\n",
    "       \\end{cases}\n",
    "     \\end{split}\n",
    "     \\end{equation}\n",
    "$$\n",
    "\n",
    "If desired, the user can specify a resampling period to apply to the price data prior to calculating returns. The user\n",
    "can also lag the returns to make them forward-looking.\n",
    "\n",
    "---\n",
    "## Examples of use"
   ]
  },
  {
   "cell_type": "code",
   "execution_count": 1,
   "metadata": {},
   "outputs": [],
   "source": [
    "import numpy as np\n",
    "import pandas as pd\n",
    "import yfinance as yf\n",
    "\n",
    "from mlfinlab.labeling import raw_return\n",
    "\n",
    "import matplotlib.pyplot as plt"
   ]
  },
  {
   "cell_type": "code",
   "execution_count": 2,
   "metadata": {},
   "outputs": [
    {
     "data": {
      "text/plain": [
       "Date\n",
       "2010-01-04    24.23\n",
       "2010-01-05    24.23\n",
       "2010-01-06    24.09\n",
       "2010-01-07    23.84\n",
       "2010-01-08    24.00\n",
       "Name: Close, dtype: float64"
      ]
     },
     "execution_count": 2,
     "metadata": {},
     "output_type": "execute_result"
    }
   ],
   "source": [
    "# Load price data\n",
    "msft = yf.Ticker('MSFT')\n",
    "msft_df = msft.history(start='2010-1-1', end ='2020-5-18')\n",
    "\n",
    "# Subset closing prices\n",
    "close = msft_df['Close']\n",
    "close.head()"
   ]
  },
  {
   "cell_type": "markdown",
   "metadata": {},
   "source": [
    "### Daily returns on a stock"
   ]
  },
  {
   "cell_type": "markdown",
   "metadata": {},
   "source": [
    "The data provided is already in daily close prices, so no resampling is needed. We can plot the distribution of logarithmic returns for MSFT stock from 2010-2020."
   ]
  },
  {
   "cell_type": "code",
   "execution_count": 3,
   "metadata": {},
   "outputs": [
    {
     "data": {
      "text/plain": [
       "Text(0.5, 0, 'Daily Log Return')"
      ]
     },
     "execution_count": 3,
     "metadata": {},
     "output_type": "execute_result"
    },
    {
     "data": {
      "image/png": "[encoded data removed]",
      "text/plain": [
       "<Figure size 432x288 with 1 Axes>"
      ]
     },
     "metadata": {
      "needs_background": "light"
     },
     "output_type": "display_data"
    }
   ],
   "source": [
    "returns1 = raw_return(prices=close, logarithmic=True, lag=False)\n",
    "ax = returns1.hist(bins=100)\n",
    "ax.set_title(\"Distribution of Daily Log Returns on MSFT From 2010-2020\")\n",
    "ax.set_ylabel(\"Frequency\")\n",
    "ax.set_xlabel(\"Daily Log Return\")"
   ]
  },
  {
   "cell_type": "markdown",
   "metadata": {},
   "source": [
    "We can also get categorical labels. "
   ]
  },
  {
   "cell_type": "code",
   "execution_count": 4,
   "metadata": {},
   "outputs": [
    {
     "data": {
      "text/plain": [
       " 1.0    1358\n",
       "-1.0    1219\n",
       " 0.0      32\n",
       "Name: Close, dtype: int64"
      ]
     },
     "execution_count": 4,
     "metadata": {},
     "output_type": "execute_result"
    }
   ],
   "source": [
    "returns2 = raw_return(close, logarithmic=True, binary=True, lag=False)\n",
    "returns2.value_counts()"
   ]
  },
  {
   "cell_type": "markdown",
   "metadata": {},
   "source": [
    "We can see that over this time period, MSFT had a positive daily return about 52% of the time and a negative daily return about 47% of the time."
   ]
  },
  {
   "cell_type": "markdown",
   "metadata": {},
   "source": [
    "### Resampling by week"
   ]
  },
  {
   "cell_type": "markdown",
   "metadata": {},
   "source": [
    "Suppose we would rather calculate forward returns per week instead of per day. Then we would need to resample."
   ]
  },
  {
   "cell_type": "code",
   "execution_count": 5,
   "metadata": {},
   "outputs": [
    {
     "data": {
      "text/plain": [
       "Text(0.5, 0, 'Weekly Log Return')"
      ]
     },
     "execution_count": 5,
     "metadata": {},
     "output_type": "execute_result"
    },
    {
     "data": {
      "image/png": "[encoded data removed]",
      "text/plain": [
       "<Figure size 432x288 with 1 Axes>"
      ]
     },
     "metadata": {
      "needs_background": "light"
     },
     "output_type": "display_data"
    }
   ],
   "source": [
    "returns3 = raw_return(prices=close, logarithmic=True, resample_by='W', lag=True)\n",
    "ax2 = returns3.hist(bins=100)\n",
    "ax2.set_title(\"Distribution of Weekly Log Returns on MSFT From 2010-2020\")\n",
    "ax2.set_ylabel(\"Frequency\")\n",
    "ax2.set_xlabel(\"Weekly Log Return\")"
   ]
  },
  {
   "cell_type": "code",
   "execution_count": 6,
   "metadata": {},
   "outputs": [
    {
     "data": {
      "text/plain": [
       " 1.0    312\n",
       "-1.0    224\n",
       " 0.0      4\n",
       "Name: Close, dtype: int64"
      ]
     },
     "execution_count": 6,
     "metadata": {},
     "output_type": "execute_result"
    }
   ],
   "source": [
    "returns4 = raw_return(prices=close, binary=True, logarithmic=True, resample_by='W', lag=True)\n",
    "returns4.value_counts()"
   ]
  },
  {
   "cell_type": "markdown",
   "metadata": {},
   "source": [
    "---\n",
    "## Conclusion"
   ]
  },
  {
   "cell_type": "markdown",
   "metadata": {},
   "source": [
    "This notebook presents the raw returns labeling method, which is the most basic and ubiquitous method used in financial data analysis, and is generally superior to using price changes. In this method, simple or logarithmic returns can be outputted based on price data. This labeling method is often a precursor to more sophisticated labeling methods."
   ]
  },
  {
   "cell_type": "markdown",
   "metadata": {},
   "source": [
    "## References"
   ]
  },
  {
   "cell_type": "markdown",
   "metadata": {},
   "source": [
    "Coqueret, G. and Guida, T., 2020. Machine Learning For Factor Investing."
   ]
  }
 ],
 "metadata": {
  "kernelspec": {
   "display_name": "Python 3",
   "language": "python",
   "name": "python3"
  },
  "language_info": {
   "codemirror_mode": {
    "name": "ipython",
    "version": 3
   },
   "file_extension": ".py",
   "mimetype": "text/x-python",
   "name": "python",
   "nbconvert_exporter": "python",
   "pygments_lexer": "ipython3",
   "version": "3.7.4"
  }
 },
 "nbformat": 4,
 "nbformat_minor": 2
}
