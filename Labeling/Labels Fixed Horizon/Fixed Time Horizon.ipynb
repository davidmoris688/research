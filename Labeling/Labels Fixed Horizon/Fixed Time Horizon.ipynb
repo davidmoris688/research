{
 "cells": [
  {
   "cell_type": "markdown",
   "metadata": {},
   "source": [
    "# Labeling: Fixed Horizon\n",
    "\n",
    "![image_example](img/fixed_horizon_labels_example.png)\n",
    "_*Fig. 1:*_ Distribution of labels for standardized returns on closing prices of SPY in the time period from Jan 2008 to July 2016 using a 20-day rolling window for the standard deviation.\n",
    "\n",
    "\n",
    "## Abstract\n",
    "\n",
    "Fixed Horizon is a classification labeling technique in which time-indexed data is labeled according to whether it exceeds, falls in between, or is less than a threshold. This method is most commonly used with time bars, but also be applied to any time-indexed data such as dollar or volume bars. The subsequent labeled data can then be used as training and test data for ML algorithms.\n",
    "\n",
    "The following paper outlines the technique in greater depth, and is followed closely in this notebook tutorial: [\"Classification-based Financial Markets Prediction using Deep Neural Networks\"](https://arxiv.org/abs/1603.08604) by _Dixon et al._ (2016). \n",
    "\n",
    "\n",
    "## How it works\n",
    "\n",
    "Fixed time horizon is a common method used in labeling financial data, usually applied on time bars. The return relative to $t_0$ over a time horizon $h$ is calculated as follows, assuming returns are lagged to make them forward-looking:\n",
    "\n",
    "   $$r_{t0,t1} = \\frac{p_{t1}}{p_{t0}} - 1$$\n",
    "\n",
    "Where $t_1$ is the time bar after a fixed horizon has passed, and $p_{t0}, p_{t1}$\n",
    "are prices at times $t_0, t_1$. This method assigns a label based on comparison of return to a threshold $\\tau$\n",
    "\\[Lopez de Prado 2018\\]:\n",
    "\n",
    "$$\n",
    "     \\begin{equation}\n",
    "     \\begin{split}\n",
    "       L_{t0, t1} = \\begin{cases}\n",
    "       -1 &\\ \\text{if} \\ \\ r_{t0, t1} < -\\tau\\\\\n",
    "       0 &\\ \\text{if} \\ \\ -\\tau \\leq r_{t0, t1} \\leq \\tau\\\\\n",
    "       1 &\\ \\text{if} \\ \\ r_{t0, t1} > \\tau\n",
    "       \\end{cases}\n",
    "     \\end{split}\n",
    "     \\end{equation}\n",
    "$$\n",
    "\n",
    "To avoid overlapping return windows, rather than specifying $h$, the user is given the option of resampling the returns to get the desired return period. Optionally, returns can be standardized by scaling by the mean and standard deviation of a rolling window. If threshold is a pd.Series, **threshold.index and prices.index must match**; otherwise labels will fail to be returned. If resampling is used, the threshold must match the index of prices after resampling. This is to avoid the user being forced to manually fill in thresholds. Acceptable strings inputs for resampling can be found [here](https://pandas.pydata.org/pandas-docs/stable/user_guide/timeseries.html#dateoffset-objects).\n",
    "\n",
    "Though time bars are the most common format for financial data, there can be potential problems with over-reliance on time bars. Time bars exhibit high seasonality, as trading behavior may be quite different at the open or close versus midday; thus it will not be informative to apply the same threshold on a non-uniform distribution. Solutions include applying the fixed horizon method to tick or volume bars instead of time bars, using data sampled at the same time every day (e.g. closing prices) or inputting a dynamic threshold as a pd.Series corresponding to the timestamps in the dataset. However, the fixed horizon method will always fail to capture information about the path of the prices [Lopez de Prado, 2018].\n",
    "\n",
    "---\n",
    "## Examples of use"
   ]
  },
  {
   "cell_type": "code",
   "execution_count": 1,
   "metadata": {},
   "outputs": [],
   "source": [
    "import numpy as np\n",
    "import pandas as pd\n",
    "import yfinance as yf\n",
    "\n",
    "from mlfinlab.labeling import fixed_time_horizon\n",
    "\n",
    "import matplotlib.pyplot as plt"
   ]
  },
  {
   "cell_type": "code",
   "execution_count": 2,
   "metadata": {},
   "outputs": [
    {
     "data": {
      "text/plain": [
       "Date\n",
       "2010-01-04    24.23\n",
       "2010-01-05    24.23\n",
       "2010-01-06    24.09\n",
       "2010-01-07    23.84\n",
       "2010-01-08    24.00\n",
       "Name: Close, dtype: float64"
      ]
     },
     "execution_count": 2,
     "metadata": {},
     "output_type": "execute_result"
    }
   ],
   "source": [
    "# Load price data. pd.Series is shown but pd.DataFrame works as well.\n",
    "msft = yf.Ticker('MSFT')\n",
    "msft_df = msft.history(start='2010-1-1', end ='2020-5-18')\n",
    "\n",
    "close = msft_df['Close']\n",
    "close.head()"
   ]
  },
  {
   "cell_type": "markdown",
   "metadata": {},
   "source": [
    "### Labeling financial time series"
   ]
  },
  {
   "cell_type": "code",
   "execution_count": 3,
   "metadata": {},
   "outputs": [],
   "source": [
    "# Getting labels for a constant threshold of 1%. Will return 1 if the daily return is greater than 1%,\n",
    "# -1 if less than -1%, and  0 if in between.\n",
    "bars1 = fixed_time_horizon(prices=close, threshold=0.01, lag=True)"
   ]
  },
  {
   "cell_type": "code",
   "execution_count": 4,
   "metadata": {},
   "outputs": [
    {
     "data": {
      "text/plain": [
       "Text(0, 0.5, 'Frequency')"
      ]
     },
     "execution_count": 4,
     "metadata": {},
     "output_type": "execute_result"
    },
    {
     "data": {
      "image/png": "[encoded data removed]",
      "text/plain": [
       "<Figure size 432x288 with 1 Axes>"
      ]
     },
     "metadata": {
      "needs_background": "light"
     },
     "output_type": "display_data"
    }
   ],
   "source": [
    "ax1 = bars1.value_counts().reindex([-1, 0, 1]).plot(kind='bar', x='label', y='frequency')\n",
    "ax1.set_xlabel('Label')\n",
    "ax1.set_ylabel('Frequency')"
   ]
  },
  {
   "cell_type": "markdown",
   "metadata": {},
   "source": [
    "Predictably, lowering the threshold results in fewer 0 labels."
   ]
  },
  {
   "cell_type": "code",
   "execution_count": 5,
   "metadata": {},
   "outputs": [
    {
     "data": {
      "text/plain": [
       "Text(0, 0.5, 'Frequency')"
      ]
     },
     "execution_count": 5,
     "metadata": {},
     "output_type": "execute_result"
    },
    {
     "data": {
      "image/png": "[encoded data removed]",
      "text/plain": [
       "<Figure size 432x288 with 1 Axes>"
      ]
     },
     "metadata": {
      "needs_background": "light"
     },
     "output_type": "display_data"
    }
   ],
   "source": [
    "bars2 = fixed_time_horizon(prices=close, threshold=0.001, lag=True)\n",
    "ax2 = bars2.value_counts().reindex([-1, 0, 1]).plot(kind='bar', x='label', y='frequency')\n",
    "ax2.set_xlabel('Label')\n",
    "ax2.set_ylabel('Frequency')"
   ]
  },
  {
   "cell_type": "markdown",
   "metadata": {},
   "source": [
    "### Labeling with dynamic threshold"
   ]
  },
  {
   "cell_type": "markdown",
   "metadata": {},
   "source": [
    "A major problem with the fixed time horizon method is the seasonality of the data. Time bars in the middle of the trading day would look very different than those at the open or close. One way to get around this is to only use data which has been collected at the same time per day, such as close prices. Another method is to apply a dynamic threshold which can adjust for such differences. \n",
    "\n",
    "We will demonstrate two methods of setting a dynamic threshold:\n",
    "1. Using a rolling standard deviation.\n",
    "2. Using SPY as the market return.\n"
   ]
  },
  {
   "cell_type": "code",
   "execution_count": 6,
   "metadata": {},
   "outputs": [],
   "source": [
    "# Rolling standard deviation\n",
    "msft_returns = close.pct_change(periods=1).shift(-1)\n",
    "rolling_std = msft_returns.rolling(10).std()"
   ]
  },
  {
   "cell_type": "markdown",
   "metadata": {},
   "source": [
    "Because the first 9 values in the rolling_std are NaN due to the rolling window, there is no threshold to compare the first 9 returns to. So we must remove the first 9 returns as they are not labeled."
   ]
  },
  {
   "cell_type": "code",
   "execution_count": 7,
   "metadata": {},
   "outputs": [],
   "source": [
    "bars3 = fixed_time_horizon(prices=close, threshold=rolling_std, lag=True)\n",
    "bars3 = bars3.iloc[9:]"
   ]
  },
  {
   "cell_type": "code",
   "execution_count": 8,
   "metadata": {},
   "outputs": [
    {
     "data": {
      "text/plain": [
       "Text(0, 0.5, 'Frequency')"
      ]
     },
     "execution_count": 8,
     "metadata": {},
     "output_type": "execute_result"
    },
    {
     "data": {
      "image/png": "[encoded data removed]",
      "text/plain": [
       "<Figure size 432x288 with 1 Axes>"
      ]
     },
     "metadata": {
      "needs_background": "light"
     },
     "output_type": "display_data"
    }
   ],
   "source": [
    "ax3 = bars3.value_counts().reindex([-1, 0, 1]).plot(kind='bar', x='label', y='frequency')\n",
    "ax3.set_xlabel('Label')\n",
    "ax3.set_ylabel('Frequency')"
   ]
  },
  {
   "cell_type": "code",
   "execution_count": 9,
   "metadata": {},
   "outputs": [
    {
     "data": {
      "text/plain": [
       "Date\n",
       "2010-01-04    0.002602\n",
       "2010-01-05    0.000757\n",
       "2010-01-06    0.004213\n",
       "2010-01-07    0.003335\n",
       "2010-01-08    0.001394\n",
       "Name: Close, dtype: float64"
      ]
     },
     "execution_count": 9,
     "metadata": {},
     "output_type": "execute_result"
    }
   ],
   "source": [
    "# Threshold on market returns\n",
    "spy = yf.Ticker('SPY')\n",
    "spy_df = spy.history(start='2010-1-1', end ='2020-5-18')\n",
    "market_close = spy_df['Close']\n",
    "\n",
    "market_returns = market_close.pct_change(1).shift(-1)\n",
    "market_returns.head()"
   ]
  },
  {
   "cell_type": "code",
   "execution_count": 10,
   "metadata": {},
   "outputs": [],
   "source": [
    "bars4 = fixed_time_horizon(prices=close, threshold=market_returns, lag=True)"
   ]
  },
  {
   "cell_type": "code",
   "execution_count": 11,
   "metadata": {},
   "outputs": [
    {
     "data": {
      "text/plain": [
       "Text(0, 0.5, 'Frequency')"
      ]
     },
     "execution_count": 11,
     "metadata": {},
     "output_type": "execute_result"
    },
    {
     "data": {
      "image/png": "[encoded data removed]",
      "text/plain": [
       "<Figure size 432x288 with 1 Axes>"
      ]
     },
     "metadata": {
      "needs_background": "light"
     },
     "output_type": "display_data"
    }
   ],
   "source": [
    "ax4 = bars4.value_counts().reindex([-1, 0, 1]).plot(kind='bar', x='label', y='frequency')\n",
    "ax4.set_xlabel('Label')\n",
    "ax4.set_ylabel('Frequency')"
   ]
  },
  {
   "cell_type": "markdown",
   "metadata": {},
   "source": [
    "These 2 methods of setting a dynamic threshold accomplish slightly different things. By setting the threshold equal to the rolling standard deviation, we can see if the day's volatility is higher than in recent days. By setting the threshold equal to the return on SPY, we can see if our stock's return was more volatile than the market average for the day."
   ]
  },
  {
   "cell_type": "markdown",
   "metadata": {},
   "source": [
    "### Labeling with standardization "
   ]
  },
  {
   "cell_type": "markdown",
   "metadata": {},
   "source": [
    "Scaling each return by the mean and standard deviation is also a potential solution in getting around the non-homogeneity of the data, as it could adjust for volatility differences between different bars. If standardization is desired, a rolling window must be given."
   ]
  },
  {
   "cell_type": "code",
   "execution_count": 12,
   "metadata": {},
   "outputs": [
    {
     "data": {
      "text/plain": [
       "Date\n",
       "2010-01-04    0.000000\n",
       "2010-01-05   -0.005778\n",
       "2010-01-06   -0.010378\n",
       "2010-01-07    0.006711\n",
       "2010-01-08   -0.012917\n",
       "                ...   \n",
       "2020-05-11   -0.022661\n",
       "2020-05-12   -0.015110\n",
       "2020-05-13    0.004351\n",
       "2020-05-14    0.014553\n",
       "2020-05-15         NaN\n",
       "Name: Close, Length: 2610, dtype: float64"
      ]
     },
     "execution_count": 12,
     "metadata": {},
     "output_type": "execute_result"
    }
   ],
   "source": [
    "close.pct_change(periods=1).shift(-1)"
   ]
  },
  {
   "cell_type": "code",
   "execution_count": 13,
   "metadata": {},
   "outputs": [],
   "source": [
    "bars5 = fixed_time_horizon(prices=close, threshold=1, lag=True, standardized=True, window=5)"
   ]
  },
  {
   "cell_type": "code",
   "execution_count": 14,
   "metadata": {},
   "outputs": [
    {
     "data": {
      "text/plain": [
       "Text(0, 0.5, 'Frequency')"
      ]
     },
     "execution_count": 14,
     "metadata": {},
     "output_type": "execute_result"
    },
    {
     "data": {
      "image/png": "[encoded data removed]",
      "text/plain": [
       "<Figure size 432x288 with 1 Axes>"
      ]
     },
     "metadata": {
      "needs_background": "light"
     },
     "output_type": "display_data"
    }
   ],
   "source": [
    "ax5 = bars5.value_counts().reindex([-1, 0, 1]).plot(kind='bar', x='label', y='frequency')\n",
    "ax5.set_xlabel('Label')\n",
    "ax5.set_ylabel('Frequency')"
   ]
  },
  {
   "cell_type": "markdown",
   "metadata": {},
   "source": [
    "### Labeling with resampling"
   ]
  },
  {
   "cell_type": "markdown",
   "metadata": {},
   "source": [
    "Sometimes the data is more granular then necessary. Suppose we only want to predict returns on a weekly timescale but have daily data. Then we can resample the prices weekly so that only the price at the end of each week gets sampled. "
   ]
  },
  {
   "cell_type": "code",
   "execution_count": 15,
   "metadata": {},
   "outputs": [],
   "source": [
    "bars6 = fixed_time_horizon(prices=close, threshold=1, resample_by='W', lag=True, standardized=True, window=4)"
   ]
  },
  {
   "cell_type": "code",
   "execution_count": 16,
   "metadata": {},
   "outputs": [
    {
     "data": {
      "text/plain": [
       "Text(0, 0.5, 'Frequency')"
      ]
     },
     "execution_count": 16,
     "metadata": {},
     "output_type": "execute_result"
    },
    {
     "data": {
      "image/png": "[encoded data removed]",
      "text/plain": [
       "<Figure size 432x288 with 1 Axes>"
      ]
     },
     "metadata": {
      "needs_background": "light"
     },
     "output_type": "display_data"
    }
   ],
   "source": [
    "ax6 = bars6.value_counts().reindex([-1, 0, 1]).plot(kind='bar', x='label', y='frequency')\n",
    "ax6.set_xlabel('Label')\n",
    "ax6.set_ylabel('Frequency')"
   ]
  },
  {
   "cell_type": "markdown",
   "metadata": {},
   "source": [
    "### Error Handling"
   ]
  },
  {
   "cell_type": "markdown",
   "metadata": {},
   "source": [
    "A warning is raised if window is greater than the length of the data. In this case, the function will still run, but all labels will be NaN. An exception is raised if standardized is set to True but the window is not specified correctly as an int. An exception is also raised if the index of threshold does not match the index of prices, as this will cause the labeling to fail."
   ]
  },
  {
   "cell_type": "code",
   "execution_count": 17,
   "metadata": {},
   "outputs": [
    {
     "name": "stderr",
     "output_type": "stream",
     "text": [
      "c:\\users\\ruifan\\mlfinlab\\mlfinlab\\labeling\\fixed_time_horizon.py:61: UserWarning: window is greater than the length of the Series. All labels will be NaN.\n",
      "  warnings.warn('window is greater than the length of the Series. All labels will be NaN.', UserWarning)\n"
     ]
    }
   ],
   "source": [
    "try:\n",
    "    fixed_time_horizon(close, 0.01, standardized=True, window=9999999).head()\n",
    "except Warning as warn:\n",
    "    print(warn)"
   ]
  },
  {
   "cell_type": "code",
   "execution_count": 18,
   "metadata": {},
   "outputs": [
    {
     "name": "stdout",
     "output_type": "stream",
     "text": [
      "prices.index and threshold.index must match! If prices are resampled, the threshold index must match the resampled prices index.\n"
     ]
    }
   ],
   "source": [
    "threshold = pd.Series([0.01]*10)\n",
    "try:\n",
    "    fixed_time_horizon(prices=close[:10], threshold=threshold)\n",
    "except Exception as exc:\n",
    "    print(exc)"
   ]
  },
  {
   "cell_type": "code",
   "execution_count": 19,
   "metadata": {},
   "outputs": [
    {
     "name": "stdout",
     "output_type": "stream",
     "text": [
      "When standardized is True, window must be int.\n"
     ]
    }
   ],
   "source": [
    "try:\n",
    "    fixed_time_horizon(prices=close, threshold=0.01, lag=True, standardized=True, window='str')\n",
    "except Exception as exc:\n",
    "    print(exc)"
   ]
  },
  {
   "cell_type": "markdown",
   "metadata": {},
   "source": [
    "---\n",
    "## Conclusion"
   ]
  },
  {
   "cell_type": "markdown",
   "metadata": {},
   "source": [
    "This notebook presents the fixed horizon method, a simple method of labeling data for later use in machine learning algorithms. In this process:\n",
    " - Forward (lagged) returns for assets are calculated based on time-indexed data, usually in the form of time bars. If applicable, the returns may be calculated from resampled prices.\n",
    " - The forward return is compared to a threshold for the return. The threshold can be a constant, or a pd.Series corresponding to every timestamp in the data.\n",
    " - Each observation is compared to the threshold, and is labeled -1 if it is below -threshold, 0 if it is between -threshold and +threshold, and 1 if it is greater than +threshold.to\n",
    "\n",
    "This method works with the prices input being pd.Series or pd.DataFrame. In Dixon's paper, the data is labeled using this method. Subsequently a neural network is trained to predict the label based on the data. A simple trading strategy in which a long position is taken if a ticker is classified as 1, and short if it's classified at -1, can then be applied. "
   ]
  },
  {
   "cell_type": "markdown",
   "metadata": {},
   "source": [
    "## References"
   ]
  },
  {
   "cell_type": "markdown",
   "metadata": {},
   "source": [
    "1. Dixon, M., Klabjan, D. and Jin Hoon, B., 2020. Classification-based Financial Markets Prediction using Deep Neural Networks. arXiv, [online] Available at: https://arxiv.org/abs/1603.08604\n",
    "\n",
    "2. López de Prado, M., 2018. Advances In Financial Machine Learning. pp.43-44.\n",
    "\n",
    "3. López de Prado, M., 2020. Machine Learning For Asset Managers. pp.65-66.\n"
   ]
  }
 ],
 "metadata": {
  "kernelspec": {
   "display_name": "Python 3",
   "language": "python",
   "name": "python3"
  },
  "language_info": {
   "codemirror_mode": {
    "name": "ipython",
    "version": 3
   },
   "file_extension": ".py",
   "mimetype": "text/x-python",
   "name": "python",
   "nbconvert_exporter": "python",
   "pygments_lexer": "ipython3",
   "version": "3.7.4"
  }
 },
 "nbformat": 4,
 "nbformat_minor": 2
}
