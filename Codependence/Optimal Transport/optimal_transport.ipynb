{
 "cells": [
  {
   "cell_type": "markdown",
   "metadata": {},
   "source": [
    "* By: Illya Barziy\n",
    "* Email: illyabarziy@gmail.com\n",
    "* Reference: __Exploring and measuring non-linear correlations: Copulas, Lightspeed Transportation and Clustering.__ _by_ Marti et al."
   ]
  },
  {
   "cell_type": "markdown",
   "metadata": {},
   "source": [
    "## Abstract"
   ]
  },
  {
   "cell_type": "markdown",
   "metadata": {},
   "source": [
    "Optimal Transport is a unique distance measure between two random variables that allows measuring the codependence with respect to similarity to the target codependence type."
   ]
  },
  {
   "cell_type": "markdown",
   "metadata": {},
   "source": [
    "## Optimal Transport distance"
   ]
  },
  {
   "cell_type": "markdown",
   "metadata": {},
   "source": [
    "This description is based on the paper by _Marti et al._ __“Exploring and measuring non-linear correlations: Copulas, Lightspeed Transportation and Clustering.”__  [available here](https://arxiv.org/pdf/1610.09659.pdf)."
   ]
  },
  {
   "cell_type": "markdown",
   "metadata": {},
   "source": [
    "### Optimal Transport and copulas"
   ]
  },
  {
   "cell_type": "markdown",
   "metadata": {},
   "source": [
    "As described by Gautier Marti:\n",
    "\n",
    "“The basic idea of the optimal copula transport dependence measure is rather simple. It relies on leveraging:\n",
    "\n",
    "- Copulas, which are distributions encoding fully the dependence between random variables.\n",
    "\n",
    "- A geometrical point of view: Where does the empirical copula stand in the space of copulas? In particular, how far is it from reference copulas such as the Fréchet–Hoeffding copula bounds (copulas associated to comonotone, countermonotone, independent random variables)?”"
   ]
  },
  {
   "cell_type": "markdown",
   "metadata": {},
   "source": [
    "![image](images/optimal_transport_distance.png)\n",
    "\n",
    "_Dependence is measured as the relative distance from independence to the nearest target-dependence: comonotonicity or countermonotonicity. ([Blog post by Gautier Marti](https://gmarti.gitlab.io/qfin/2020/06/25/copula-optimal-transport-dependence.html))_"
   ]
  },
  {
   "cell_type": "markdown",
   "metadata": {},
   "source": [
    "“With this geometric view:\n",
    "\n",
    "- It is rather easy to extend this novel dependence measure to alternative use cases (e.g. by changing the reference copulas).\n",
    "\n",
    "- It can also allow to look for specific patterns in the dependence structure (generalization of conditional correlation).\n",
    "\n",
    "With this optimal copula transport tool, one can look for answers to, for example:\n",
    "\n",
    " A) “Which pair of assets having ρ=0.7 correlation has the nearest copula to the Gaussian one?”\n",
    "\n",
    " B) “Which pairs of assets are both positively and negatively correlated?”\n",
    "\n",
    " C) “Which assets occur extreme variations while those of others are relatively small, and conversely?”\n",
    "\n",
    " D) “Which pairs of assets are positively correlated for small variations but uncorrelated otherwise?”"
   ]
  },
  {
   "cell_type": "markdown",
   "metadata": {},
   "source": [
    "![image](images/target_copulas.png)\n",
    "\n",
    "\n",
    "_Target copulas (simulated or handcrafted) and their respective nearest copulas which answer questions A,B,C,D. ([Marti et al. 2016](https://arxiv.org/pdf/1610.09659.pdf))_"
   ]
  },
  {
   "cell_type": "markdown",
   "metadata": {},
   "source": [
    "---"
   ]
  },
  {
   "cell_type": "markdown",
   "metadata": {},
   "source": [
    "According to the description of the method from [the original paper by Marti et al.](https://arxiv.org/pdf/1610.09659.pdf):"
   ]
  },
  {
   "cell_type": "markdown",
   "metadata": {},
   "source": [
    "The idea of the approach is to \"target specific dependence patterns and ignore others. We want to target dependence\n",
    "which are relevant to such or such problem, and forget about the dependence which are not in the scope of the problems\n",
    "at hand, or even worse which may be spurious associations (pure chance or artifacts in the data).\"\n",
    "\n",
    "The proposed codependence coefficient \"can be parameterized by a set of target-dependences, and a set\n",
    "of forget-dependences. Sets of target and forget dependences can be built using expert hypotheses,\n",
    "or by leveraging the centers of clusters resulting from an exploratory clustering of the pairwise dependences.\n",
    "To achieve this goal, we will leverage three tools: copulas, optimal transportation, and clustering.\"\n",
    "\n",
    "\"Optimal transport is based on the underlying theory of the Earth Mover’s Distance. Until very recently,\n",
    "optimal transportation distances between distributions were not deemed relevant for machine learning applications\n",
    "since the best computational cost known was super-cubic to the number of bins used for discretizing the\n",
    "distribution supports which grows itself exponentially with the dimension. A mere distance evaluation\n",
    "could take several seconds!\"\n",
    "\n",
    "\"Copulas and optimal transportation are not yet mainstream tools, but they have recently gained attention\n",
    "in machine learning, and several copula-based dependence measures have been proposed for improving\n",
    "feature selection methods\".\n",
    "\n",
    "\"Copulas are functions that couple multivariate distribution functions to their univariate marginal distribution functions\".\n",
    "\n",
    "In this implementation, only bivariate copulas are considered, as higher dimensions would cost a high computational burden.\n",
    "But most of the results and the methodology presented hold in the multivariate setting."
   ]
  },
  {
   "cell_type": "markdown",
   "metadata": {},
   "source": [
    " **Theorem 1 (Sklar’s Theorem)** Let $X = (X_i, X_j)$ be  a random  vector with  a joint\n",
    "    cumulative distribution function $F$ , and having continuous marginal cumulative\n",
    "    distribution functions $F_i, F_j$ respectively. Then, there exists a unique\n",
    "    distribution $C$ such that $F(X_i, X_j) = C(F_i(X_i), F_j(X_j))$ .\n",
    "    $C$ , the copula of $X$ , is the bivariate distribution of uniform\n",
    "    marginals $U_i, U_j := F_i(X_i), F_j(X_j)$"
   ]
  },
  {
   "cell_type": "markdown",
   "metadata": {},
   "source": [
    "\"Copulas are central for studying the dependence between random variables: their uniform marginals\n",
    "jointly encode all the dependence. They allow to study scale-free measures of dependence and are invariant\n",
    "to monotonous transformations of the variables. Some copulas play a major role in the measure of dependence,\n",
    "namely $\\mathcal{W}$ and $\\mathcal{M}$ the Frechet-Hoeffding copula bounds, and the independence\n",
    "copula $\\Pi (u_i,u_j) = u_i u_j$ \".\n",
    "\n",
    "![image](images/dependence_copulas.png)\n",
    "\n",
    "_Copulas measure (left column) and cumulative distribution function (right column) heatmaps for negative dependence (first row), independence (second row), i.e. the uniform distribution over $[0, 1]^2$, and positive dependence (third row) ([Marti et al. 2016](https://arxiv.org/pdf/1610.09659.pdf))_"
   ]
  },
  {
   "cell_type": "markdown",
   "metadata": {},
   "source": [
    "**Proposition 1 (Frechet-Hoeffding copula bounds)** For any copula $C: [0, 1]^2 \\rightarrow [0, 1]$ and any $(u_i, u_j) \\in [0, 1]^2$ the following bounds hold:\n",
    "\n",
    "$$\\mathcal{W} (u_i, u_j) \\le C(u_i, u_j) \\le \\mathcal{M} (u_i, u_j)$$\n",
    "\n",
    "where $\\mathcal{W} (u_i, u_j) = max \\{u_i + u_j − 1, 0 \\}$ is the copula for countermonotonic random variables and $\\mathcal{M} (u_i, u_j) = min \\{ u_i, u_j \\}$ is the copula for comonotonic random variables."
   ]
  },
  {
   "cell_type": "markdown",
   "metadata": {},
   "source": [
    "\"Notice that when working with empirical data, we do not know a priori the margins\n",
    "$F_i$ for applying the probability integral transform $U_i := F_i(X_i)$ . Deheuvels has introduced a\n",
    "practical estimator for the uniform margins and the underlying copula, the empirical copula transform\"."
   ]
  },
  {
   "cell_type": "markdown",
   "metadata": {},
   "source": [
    "**Definition 1 (Empirical Copula Transform)** Let $(X^t_i, X^t_j), t = 1, ..., T$ , be $T$ observations\n",
    "    from a random vector $(X_i, X_j)$ with continuous margins. Since one cannot directly obtain the corresponding\n",
    "    copula observations $(U^t_i, U^t_j) := (F_i(X^t_i), F_j(X^t_j))$ , where $t = 1, ..., T$ , without\n",
    "    knowing a priori $F_i$ , one can instead estimate the empirical\n",
    "    margins $F^T_i(x) = \\frac{1}{T} \\sum^T_{t=1} I(X^t_i \\le x)$ , to obtain the $T$ empirical\n",
    "    observations $(\\widetilde{U}^t_i, \\widetilde{U}^t_j) := (F^T_i(X^t_i), F^T_j(X^t_j))$ . Equivalently,\n",
    "    since $U^t_i = R^t_i / T, R^t_i$ being the rank of observation $X^t_i$ , the empirical copula\n",
    "    transform can be considered as the normalized rank transform."
   ]
  },
  {
   "cell_type": "markdown",
   "metadata": {},
   "source": [
    "\"The idea of optimal transport is intuitive. It was first formulated by Gaspard Monge in 1781 as a problem to\n",
    "efficiently level the ground: Given that work is measured by the distance multiplied by the amount of dirt\n",
    "displaced, what is the minimum amount of work required to level the ground? Optimal transport plans and distances\n",
    "give the answer to this problem. In practice, empirical distributions can be represented by histograms.\n",
    "\n",
    "Let $r, c$ be two histograms in the probability simplex $\\sum_m = \\{x \\in R^m_+ : x^T 1_m = 1\\}$ .\n",
    "Let $U(r, c) = \\{ P \\in R^{m \\times m}_+ | P1_m = r, P^T 1_m = c\\}$ be the transportation polytope\n",
    "of $r$ and $c$ , that is the set containing all possible transport plans between $r$ and $c$ \"."
   ]
  },
  {
   "cell_type": "markdown",
   "metadata": {},
   "source": [
    "**Definition 2 (Optimal Transport)** Given a $m \\times m$ cost matrix $M$, the cost of mapping $r$ to\n",
    "    $c$ using a transportation matrix $P$ can be quantified as $\\langle P, M \\rangle _F$ , where $\\langle \\cdot, \\cdot \\rangle _F$ is\n",
    "    the Frobenius dot-product. The optimal transport between $r$ and $c$ given transportation cost\n",
    "    $M$ is thus:\n",
    "\n",
    "$$d_M(r, c) := min_{P \\in U (r, c)} \\langle P, M \\rangle _F$$"
   ]
  },
  {
   "cell_type": "markdown",
   "metadata": {},
   "source": [
    "\"Whenever $M$ belongs to the cone of distance matrices, the optimum of the transportation problem\n",
    "$d_M(r, c)$ is itself a distance.\n",
    "\n",
    "Using the optimal transport distance between copulas, we now propose a dependence coefficient which is parameterized\n",
    "by two sets of copulas: target copulas and forget copulas\"."
   ]
  },
  {
   "cell_type": "markdown",
   "metadata": {},
   "source": [
    "**Definition 3 (Target/Forget Dependence Coefficient)** Let ${C^-_l}_l$ be the set of forget-dependence copulas.\n",
    "    Let ${C^+_k}_k$ be the set of target-dependence copulas. Let $C$ be the copula of $(X_i, X_j)$ .\n",
    "    Let $d_M$ be an optimal transport distance parameterized by a ground metric $M$ . We define\n",
    "    the Target/Forget Dependence Coefficient as:\n",
    "\n",
    "$$TFDC(X_i, X_j; {C^+_k}_k, {C^-_l}_l) := \\frac{min_l d_M(C^-_l, C)}{min_l d_M(C^-_l, C) + min_k d_M(C, C^+_k)} \\in [0, 1]$$"
   ]
  },
  {
   "cell_type": "markdown",
   "metadata": {},
   "source": [
    "\"Using this definition, we obtain:\n",
    "\n",
    "$$TFDC (X_i, X_j; {C:+_k}_k, {C:-_l}_l) = 0 \\Leftrightarrow C \\in {C^-_l}_l$$\n",
    "\n",
    "$$TFDC(X_i ,X_j; {C^+_k}_k, {C^-_l}_l) = 1 \\Leftrightarrow C \\in {C^+_k}_k$$\n",
    "\n",
    "It is known by risk managers how dangerous it can be to rely solely on a correlation coefficient\n",
    "to measure dependence. That is why we have proposed a novel approach to explore, summarize and measure the\n",
    "pairwise correlations which exist between variables in a dataset. The experiments show the benefits of the\n",
    "proposed method: It allows to highlight the various dependence patterns that can be found between financial\n",
    "time series, which strongly depart from the Gaussian copula widely used in financial engineering.\n",
    "Though answering dependence queries as briefly outlined is still an art, we plan to develop a rich language so\n",
    "that a user can formulate complex questions about dependence, which will be automatically translated into\n",
    "copulas in order to let the methodology provide these questions accurate answers\"."
   ]
  },
  {
   "cell_type": "markdown",
   "metadata": {},
   "source": [
    "---"
   ]
  },
  {
   "cell_type": "markdown",
   "metadata": {},
   "source": [
    "## Usage of the algorithms"
   ]
  },
  {
   "cell_type": "markdown",
   "metadata": {},
   "source": [
    "##### **Warning!** Optimal Transport distance is computationally heavy, so calculating the codependence matrix may take some time."
   ]
  },
  {
   "cell_type": "markdown",
   "metadata": {},
   "source": [
    "This part shows how the Optimal Transport distance can be used to measure codependence between a set of stocks"
   ]
  },
  {
   "cell_type": "code",
   "execution_count": 1,
   "metadata": {},
   "outputs": [],
   "source": [
    "import mlfinlab as ml\n",
    "import pandas as pd\n",
    "import seaborn as sns\n",
    "import matplotlib.pyplot as plt"
   ]
  },
  {
   "cell_type": "code",
   "execution_count": 2,
   "metadata": {},
   "outputs": [
    {
     "data": {
      "text/html": [
       "<div>\n",
       "<style scoped>\n",
       "    .dataframe tbody tr th:only-of-type {\n",
       "        vertical-align: middle;\n",
       "    }\n",
       "\n",
       "    .dataframe tbody tr th {\n",
       "        vertical-align: top;\n",
       "    }\n",
       "\n",
       "    .dataframe thead th {\n",
       "        text-align: right;\n",
       "    }\n",
       "</style>\n",
       "<table border=\"1\" class=\"dataframe\">\n",
       "  <thead>\n",
       "    <tr style=\"text-align: right;\">\n",
       "      <th></th>\n",
       "      <th>EEM</th>\n",
       "      <th>EWG</th>\n",
       "      <th>TIP</th>\n",
       "      <th>EWJ</th>\n",
       "      <th>EFA</th>\n",
       "      <th>IEF</th>\n",
       "      <th>EWQ</th>\n",
       "      <th>EWU</th>\n",
       "      <th>XLB</th>\n",
       "      <th>XLE</th>\n",
       "    </tr>\n",
       "    <tr>\n",
       "      <th>Date</th>\n",
       "      <th></th>\n",
       "      <th></th>\n",
       "      <th></th>\n",
       "      <th></th>\n",
       "      <th></th>\n",
       "      <th></th>\n",
       "      <th></th>\n",
       "      <th></th>\n",
       "      <th></th>\n",
       "      <th></th>\n",
       "    </tr>\n",
       "  </thead>\n",
       "  <tbody>\n",
       "    <tr>\n",
       "      <th>2008-01-02</th>\n",
       "      <td>49.273335</td>\n",
       "      <td>35.389999</td>\n",
       "      <td>106.639999</td>\n",
       "      <td>52.919998</td>\n",
       "      <td>78.220001</td>\n",
       "      <td>87.629997</td>\n",
       "      <td>37.939999</td>\n",
       "      <td>47.759998</td>\n",
       "      <td>41.299999</td>\n",
       "      <td>79.500000</td>\n",
       "    </tr>\n",
       "    <tr>\n",
       "      <th>2008-01-03</th>\n",
       "      <td>49.716667</td>\n",
       "      <td>35.290001</td>\n",
       "      <td>107.000000</td>\n",
       "      <td>53.119999</td>\n",
       "      <td>78.349998</td>\n",
       "      <td>87.809998</td>\n",
       "      <td>37.919998</td>\n",
       "      <td>48.060001</td>\n",
       "      <td>42.049999</td>\n",
       "      <td>80.440002</td>\n",
       "    </tr>\n",
       "    <tr>\n",
       "      <th>2008-01-04</th>\n",
       "      <td>48.223331</td>\n",
       "      <td>34.599998</td>\n",
       "      <td>106.970001</td>\n",
       "      <td>51.759998</td>\n",
       "      <td>76.570000</td>\n",
       "      <td>88.040001</td>\n",
       "      <td>36.990002</td>\n",
       "      <td>46.919998</td>\n",
       "      <td>40.779999</td>\n",
       "      <td>77.500000</td>\n",
       "    </tr>\n",
       "    <tr>\n",
       "      <th>2008-01-07</th>\n",
       "      <td>48.576668</td>\n",
       "      <td>34.630001</td>\n",
       "      <td>106.949997</td>\n",
       "      <td>51.439999</td>\n",
       "      <td>76.650002</td>\n",
       "      <td>88.199997</td>\n",
       "      <td>37.259998</td>\n",
       "      <td>47.060001</td>\n",
       "      <td>40.220001</td>\n",
       "      <td>77.199997</td>\n",
       "    </tr>\n",
       "    <tr>\n",
       "      <th>2008-01-08</th>\n",
       "      <td>48.200001</td>\n",
       "      <td>34.389999</td>\n",
       "      <td>107.029999</td>\n",
       "      <td>51.320000</td>\n",
       "      <td>76.220001</td>\n",
       "      <td>88.389999</td>\n",
       "      <td>36.970001</td>\n",
       "      <td>46.400002</td>\n",
       "      <td>39.599998</td>\n",
       "      <td>75.849998</td>\n",
       "    </tr>\n",
       "  </tbody>\n",
       "</table>\n",
       "</div>"
      ],
      "text/plain": [
       "                  EEM        EWG         TIP        EWJ        EFA        IEF  \\\n",
       "Date                                                                            \n",
       "2008-01-02  49.273335  35.389999  106.639999  52.919998  78.220001  87.629997   \n",
       "2008-01-03  49.716667  35.290001  107.000000  53.119999  78.349998  87.809998   \n",
       "2008-01-04  48.223331  34.599998  106.970001  51.759998  76.570000  88.040001   \n",
       "2008-01-07  48.576668  34.630001  106.949997  51.439999  76.650002  88.199997   \n",
       "2008-01-08  48.200001  34.389999  107.029999  51.320000  76.220001  88.389999   \n",
       "\n",
       "                  EWQ        EWU        XLB        XLE  \n",
       "Date                                                    \n",
       "2008-01-02  37.939999  47.759998  41.299999  79.500000  \n",
       "2008-01-03  37.919998  48.060001  42.049999  80.440002  \n",
       "2008-01-04  36.990002  46.919998  40.779999  77.500000  \n",
       "2008-01-07  37.259998  47.060001  40.220001  77.199997  \n",
       "2008-01-08  36.970001  46.400002  39.599998  75.849998  "
      ]
     },
     "execution_count": 2,
     "metadata": {},
     "output_type": "execute_result"
    }
   ],
   "source": [
    "# Loading the dataset of stocks\n",
    "stocks = pd.read_csv('../../Sample-Data/stock_prices.csv')\n",
    "stocks.set_index('Date', inplace=True)\n",
    "stocks.index = pd.to_datetime(stocks.index)\n",
    "\n",
    "# Taking first 10 stocks for better output visualization\n",
    "stocks = stocks.iloc[:,0:10]\n",
    "stocks.head()"
   ]
  },
  {
   "cell_type": "code",
   "execution_count": 3,
   "metadata": {},
   "outputs": [
    {
     "data": {
      "text/html": [
       "<div>\n",
       "<style scoped>\n",
       "    .dataframe tbody tr th:only-of-type {\n",
       "        vertical-align: middle;\n",
       "    }\n",
       "\n",
       "    .dataframe tbody tr th {\n",
       "        vertical-align: top;\n",
       "    }\n",
       "\n",
       "    .dataframe thead th {\n",
       "        text-align: right;\n",
       "    }\n",
       "</style>\n",
       "<table border=\"1\" class=\"dataframe\">\n",
       "  <thead>\n",
       "    <tr style=\"text-align: right;\">\n",
       "      <th></th>\n",
       "      <th>EEM</th>\n",
       "      <th>EWG</th>\n",
       "      <th>TIP</th>\n",
       "      <th>EWJ</th>\n",
       "      <th>EFA</th>\n",
       "      <th>IEF</th>\n",
       "      <th>EWQ</th>\n",
       "      <th>EWU</th>\n",
       "      <th>XLB</th>\n",
       "      <th>XLE</th>\n",
       "    </tr>\n",
       "    <tr>\n",
       "      <th>Date</th>\n",
       "      <th></th>\n",
       "      <th></th>\n",
       "      <th></th>\n",
       "      <th></th>\n",
       "      <th></th>\n",
       "      <th></th>\n",
       "      <th></th>\n",
       "      <th></th>\n",
       "      <th></th>\n",
       "      <th></th>\n",
       "    </tr>\n",
       "  </thead>\n",
       "  <tbody>\n",
       "    <tr>\n",
       "      <th>2008-01-03</th>\n",
       "      <td>0.008997</td>\n",
       "      <td>-0.002826</td>\n",
       "      <td>0.003376</td>\n",
       "      <td>0.003779</td>\n",
       "      <td>0.001662</td>\n",
       "      <td>0.002054</td>\n",
       "      <td>-0.000527</td>\n",
       "      <td>0.006281</td>\n",
       "      <td>0.018160</td>\n",
       "      <td>0.011824</td>\n",
       "    </tr>\n",
       "    <tr>\n",
       "      <th>2008-01-04</th>\n",
       "      <td>-0.030037</td>\n",
       "      <td>-0.019552</td>\n",
       "      <td>-0.000280</td>\n",
       "      <td>-0.025602</td>\n",
       "      <td>-0.022719</td>\n",
       "      <td>0.002619</td>\n",
       "      <td>-0.024525</td>\n",
       "      <td>-0.023720</td>\n",
       "      <td>-0.030202</td>\n",
       "      <td>-0.036549</td>\n",
       "    </tr>\n",
       "    <tr>\n",
       "      <th>2008-01-07</th>\n",
       "      <td>0.007327</td>\n",
       "      <td>0.000867</td>\n",
       "      <td>-0.000187</td>\n",
       "      <td>-0.006182</td>\n",
       "      <td>0.001045</td>\n",
       "      <td>0.001817</td>\n",
       "      <td>0.007299</td>\n",
       "      <td>0.002984</td>\n",
       "      <td>-0.013732</td>\n",
       "      <td>-0.003871</td>\n",
       "    </tr>\n",
       "    <tr>\n",
       "      <th>2008-01-08</th>\n",
       "      <td>-0.007754</td>\n",
       "      <td>-0.006930</td>\n",
       "      <td>0.000748</td>\n",
       "      <td>-0.002333</td>\n",
       "      <td>-0.005610</td>\n",
       "      <td>0.002154</td>\n",
       "      <td>-0.007783</td>\n",
       "      <td>-0.014025</td>\n",
       "      <td>-0.015415</td>\n",
       "      <td>-0.017487</td>\n",
       "    </tr>\n",
       "    <tr>\n",
       "      <th>2008-01-09</th>\n",
       "      <td>0.032780</td>\n",
       "      <td>0.003199</td>\n",
       "      <td>-0.000747</td>\n",
       "      <td>0.021824</td>\n",
       "      <td>0.007216</td>\n",
       "      <td>-0.001584</td>\n",
       "      <td>0.002975</td>\n",
       "      <td>0.000431</td>\n",
       "      <td>0.006313</td>\n",
       "      <td>0.013184</td>\n",
       "    </tr>\n",
       "  </tbody>\n",
       "</table>\n",
       "</div>"
      ],
      "text/plain": [
       "                 EEM       EWG       TIP       EWJ       EFA       IEF  \\\n",
       "Date                                                                     \n",
       "2008-01-03  0.008997 -0.002826  0.003376  0.003779  0.001662  0.002054   \n",
       "2008-01-04 -0.030037 -0.019552 -0.000280 -0.025602 -0.022719  0.002619   \n",
       "2008-01-07  0.007327  0.000867 -0.000187 -0.006182  0.001045  0.001817   \n",
       "2008-01-08 -0.007754 -0.006930  0.000748 -0.002333 -0.005610  0.002154   \n",
       "2008-01-09  0.032780  0.003199 -0.000747  0.021824  0.007216 -0.001584   \n",
       "\n",
       "                 EWQ       EWU       XLB       XLE  \n",
       "Date                                                \n",
       "2008-01-03 -0.000527  0.006281  0.018160  0.011824  \n",
       "2008-01-04 -0.024525 -0.023720 -0.030202 -0.036549  \n",
       "2008-01-07  0.007299  0.002984 -0.013732 -0.003871  \n",
       "2008-01-08 -0.007783 -0.014025 -0.015415 -0.017487  \n",
       "2008-01-09  0.002975  0.000431  0.006313  0.013184  "
      ]
     },
     "execution_count": 3,
     "metadata": {},
     "output_type": "execute_result"
    }
   ],
   "source": [
    "# Calculating returns of a given dataset of stocks\n",
    "\n",
    "# Class containing needed function\n",
    "ret_est = ml.portfolio_optimization.ReturnsEstimators()\n",
    "\n",
    "# Calculating returns\n",
    "stocks_returns = ret_est.calculate_returns(stocks)\n",
    "stocks_returns.iloc[:,0:10].head()"
   ]
  },
  {
   "cell_type": "code",
   "execution_count": 4,
   "metadata": {},
   "outputs": [
    {
     "name": "stdout",
     "output_type": "stream",
     "text": [
      "Optimal Transport distance between EEM and EWG using a comonotone target copula is:  0.6441257652527531\n"
     ]
    }
   ],
   "source": [
    "# Calculating Optimal Transport distance using a comonotone target copula\n",
    "ot_dist = ml.codependence.optimal_transport_distance(stocks_returns['EEM'], stocks_returns['EWG'], target_dependence='comonotonicity')\n",
    "print('Optimal Transport distance between EEM and EWG using a comonotone target copula is: ', ot_dist)"
   ]
  },
  {
   "cell_type": "code",
   "execution_count": 5,
   "metadata": {},
   "outputs": [
    {
     "name": "stdout",
     "output_type": "stream",
     "text": [
      "Optimal Transport distance between EEM and EWG using a countermonotone target copula is:  0.14004894949251068\n"
     ]
    }
   ],
   "source": [
    "# Calculating Optimal Transport distance using a countermonotone target copula\n",
    "ot_dist = ml.codependence.optimal_transport_distance(stocks_returns['EEM'], stocks_returns['EWG'], target_dependence='countermonotonicity')\n",
    "print('Optimal Transport distance between EEM and EWG using a countermonotone target copula is: ', ot_dist)"
   ]
  },
  {
   "cell_type": "code",
   "execution_count": 6,
   "metadata": {},
   "outputs": [
    {
     "name": "stdout",
     "output_type": "stream",
     "text": [
      "Optimal Transport distance between EEM and EWG using a Gaussian target copula with ρ=0.5 is:  0.8397565159314959\n"
     ]
    }
   ],
   "source": [
    "# Calculating Optimal Transport distance using a Gaussian target copula with ρ=0.5\n",
    "ot_dist = ml.codependence.optimal_transport_distance(stocks_returns['EEM'], stocks_returns['EWG'], target_dependence='gaussian', gaussian_corr=0.5)\n",
    "print('Optimal Transport distance between EEM and EWG using a Gaussian target copula with ρ=0.5 is: ', ot_dist)"
   ]
  },
  {
   "cell_type": "code",
   "execution_count": 7,
   "metadata": {},
   "outputs": [
    {
     "name": "stdout",
     "output_type": "stream",
     "text": [
      "Optimal Transport distance between EEM and EWG using a positive and negative correlation target copula is:  0.3656719482341906\n"
     ]
    }
   ],
   "source": [
    "# Calculating Optimal Transport distance using a positive and negative correlation target copula\n",
    "ot_dist = ml.codependence.optimal_transport_distance(stocks_returns['EEM'], stocks_returns['EWG'], target_dependence='positive_negative')\n",
    "print('Optimal Transport distance between EEM and EWG using a positive and negative correlation target copula is: ', ot_dist)"
   ]
  },
  {
   "cell_type": "code",
   "execution_count": 8,
   "metadata": {},
   "outputs": [
    {
     "name": "stdout",
     "output_type": "stream",
     "text": [
      "Optimal Transport distance between EEM and EWG using a arget copula with one element has extreme variations and the second has small variations is:  0.07112163741251254\n"
     ]
    }
   ],
   "source": [
    "# Calculating Optimal Transport distance using a target copula wheree element has extreme variations and the second has small variations\n",
    "ot_dist = ml.codependence.optimal_transport_distance(stocks_returns['EEM'], stocks_returns['EWG'], target_dependence='different_variations')\n",
    "print('Optimal Transport distance between EEM and EWG using a arget copula with one element has extreme variations and the second has small variations is: ', ot_dist)"
   ]
  },
  {
   "cell_type": "code",
   "execution_count": 9,
   "metadata": {},
   "outputs": [
    {
     "name": "stdout",
     "output_type": "stream",
     "text": [
      "Optimal Transport distance between EEM and EWG using elements being positively correlated for small variations but uncorrelated otherwise:  0.25675087784716766\n"
     ]
    }
   ],
   "source": [
    "# Calculating Optimal Transport distance using a Gaussian target copula with elements being positively correlated for small variations but uncorrelated otherwise\n",
    "ot_dist = ml.codependence.optimal_transport_distance(stocks_returns['EEM'], stocks_returns['EWG'], target_dependence='small_variations', var_threshold=0.2)\n",
    "print('Optimal Transport distance between EEM and EWG using elements being positively correlated for small variations but uncorrelated otherwise: ', ot_dist)"
   ]
  },
  {
   "cell_type": "markdown",
   "metadata": {},
   "source": [
    "These codependence measures can also be used on the whole dataframes, the results will be codependence matrices."
   ]
  },
  {
   "cell_type": "code",
   "execution_count": 10,
   "metadata": {},
   "outputs": [
    {
     "name": "stdout",
     "output_type": "stream",
     "text": [
      "Optimal Transport distance matrix using a comonotone target copula:\n"
     ]
    },
    {
     "data": {
      "text/html": [
       "<div>\n",
       "<style scoped>\n",
       "    .dataframe tbody tr th:only-of-type {\n",
       "        vertical-align: middle;\n",
       "    }\n",
       "\n",
       "    .dataframe tbody tr th {\n",
       "        vertical-align: top;\n",
       "    }\n",
       "\n",
       "    .dataframe thead th {\n",
       "        text-align: right;\n",
       "    }\n",
       "</style>\n",
       "<table border=\"1\" class=\"dataframe\">\n",
       "  <thead>\n",
       "    <tr style=\"text-align: right;\">\n",
       "      <th></th>\n",
       "      <th>EEM</th>\n",
       "      <th>EWG</th>\n",
       "      <th>TIP</th>\n",
       "      <th>EWJ</th>\n",
       "      <th>EFA</th>\n",
       "      <th>IEF</th>\n",
       "      <th>EWQ</th>\n",
       "      <th>EWU</th>\n",
       "      <th>XLB</th>\n",
       "      <th>XLE</th>\n",
       "    </tr>\n",
       "  </thead>\n",
       "  <tbody>\n",
       "    <tr>\n",
       "      <th>EEM</th>\n",
       "      <td>0.999994</td>\n",
       "      <td>0.639521</td>\n",
       "      <td>0.020610</td>\n",
       "      <td>0.494370</td>\n",
       "      <td>0.776453</td>\n",
       "      <td>0.058678</td>\n",
       "      <td>0.653617</td>\n",
       "      <td>0.672301</td>\n",
       "      <td>0.649104</td>\n",
       "      <td>0.568935</td>\n",
       "    </tr>\n",
       "    <tr>\n",
       "      <th>EWG</th>\n",
       "      <td>0.639521</td>\n",
       "      <td>0.999994</td>\n",
       "      <td>0.028180</td>\n",
       "      <td>0.459285</td>\n",
       "      <td>0.900166</td>\n",
       "      <td>0.050465</td>\n",
       "      <td>0.916020</td>\n",
       "      <td>0.755843</td>\n",
       "      <td>0.578469</td>\n",
       "      <td>0.486078</td>\n",
       "    </tr>\n",
       "    <tr>\n",
       "      <th>TIP</th>\n",
       "      <td>0.020610</td>\n",
       "      <td>0.028180</td>\n",
       "      <td>0.999992</td>\n",
       "      <td>0.013061</td>\n",
       "      <td>0.016122</td>\n",
       "      <td>0.649108</td>\n",
       "      <td>0.025616</td>\n",
       "      <td>0.019481</td>\n",
       "      <td>0.014905</td>\n",
       "      <td>0.013976</td>\n",
       "    </tr>\n",
       "    <tr>\n",
       "      <th>EWJ</th>\n",
       "      <td>0.494370</td>\n",
       "      <td>0.459285</td>\n",
       "      <td>0.013061</td>\n",
       "      <td>0.999934</td>\n",
       "      <td>0.687908</td>\n",
       "      <td>0.042931</td>\n",
       "      <td>0.463677</td>\n",
       "      <td>0.465718</td>\n",
       "      <td>0.380570</td>\n",
       "      <td>0.279807</td>\n",
       "    </tr>\n",
       "    <tr>\n",
       "      <th>EFA</th>\n",
       "      <td>0.776453</td>\n",
       "      <td>0.900166</td>\n",
       "      <td>0.016122</td>\n",
       "      <td>0.687908</td>\n",
       "      <td>0.999995</td>\n",
       "      <td>0.060981</td>\n",
       "      <td>0.938447</td>\n",
       "      <td>0.892762</td>\n",
       "      <td>0.668360</td>\n",
       "      <td>0.577852</td>\n",
       "    </tr>\n",
       "    <tr>\n",
       "      <th>IEF</th>\n",
       "      <td>0.058678</td>\n",
       "      <td>0.050465</td>\n",
       "      <td>0.649108</td>\n",
       "      <td>0.042931</td>\n",
       "      <td>0.060981</td>\n",
       "      <td>0.999994</td>\n",
       "      <td>0.054761</td>\n",
       "      <td>0.049787</td>\n",
       "      <td>0.058981</td>\n",
       "      <td>0.051819</td>\n",
       "    </tr>\n",
       "    <tr>\n",
       "      <th>EWQ</th>\n",
       "      <td>0.653617</td>\n",
       "      <td>0.916020</td>\n",
       "      <td>0.025616</td>\n",
       "      <td>0.463677</td>\n",
       "      <td>0.938447</td>\n",
       "      <td>0.054761</td>\n",
       "      <td>0.999992</td>\n",
       "      <td>0.805883</td>\n",
       "      <td>0.579738</td>\n",
       "      <td>0.513660</td>\n",
       "    </tr>\n",
       "    <tr>\n",
       "      <th>EWU</th>\n",
       "      <td>0.672301</td>\n",
       "      <td>0.755843</td>\n",
       "      <td>0.019481</td>\n",
       "      <td>0.465718</td>\n",
       "      <td>0.892762</td>\n",
       "      <td>0.049787</td>\n",
       "      <td>0.805883</td>\n",
       "      <td>0.999986</td>\n",
       "      <td>0.607580</td>\n",
       "      <td>0.507875</td>\n",
       "    </tr>\n",
       "    <tr>\n",
       "      <th>XLB</th>\n",
       "      <td>0.649104</td>\n",
       "      <td>0.578469</td>\n",
       "      <td>0.014905</td>\n",
       "      <td>0.380570</td>\n",
       "      <td>0.668360</td>\n",
       "      <td>0.058981</td>\n",
       "      <td>0.579738</td>\n",
       "      <td>0.607580</td>\n",
       "      <td>0.999992</td>\n",
       "      <td>0.660015</td>\n",
       "    </tr>\n",
       "    <tr>\n",
       "      <th>XLE</th>\n",
       "      <td>0.568935</td>\n",
       "      <td>0.486078</td>\n",
       "      <td>0.013976</td>\n",
       "      <td>0.279807</td>\n",
       "      <td>0.577852</td>\n",
       "      <td>0.051819</td>\n",
       "      <td>0.513660</td>\n",
       "      <td>0.507875</td>\n",
       "      <td>0.660015</td>\n",
       "      <td>0.999995</td>\n",
       "    </tr>\n",
       "  </tbody>\n",
       "</table>\n",
       "</div>"
      ],
      "text/plain": [
       "          EEM       EWG       TIP       EWJ       EFA       IEF       EWQ  \\\n",
       "EEM  0.999994  0.639521  0.020610  0.494370  0.776453  0.058678  0.653617   \n",
       "EWG  0.639521  0.999994  0.028180  0.459285  0.900166  0.050465  0.916020   \n",
       "TIP  0.020610  0.028180  0.999992  0.013061  0.016122  0.649108  0.025616   \n",
       "EWJ  0.494370  0.459285  0.013061  0.999934  0.687908  0.042931  0.463677   \n",
       "EFA  0.776453  0.900166  0.016122  0.687908  0.999995  0.060981  0.938447   \n",
       "IEF  0.058678  0.050465  0.649108  0.042931  0.060981  0.999994  0.054761   \n",
       "EWQ  0.653617  0.916020  0.025616  0.463677  0.938447  0.054761  0.999992   \n",
       "EWU  0.672301  0.755843  0.019481  0.465718  0.892762  0.049787  0.805883   \n",
       "XLB  0.649104  0.578469  0.014905  0.380570  0.668360  0.058981  0.579738   \n",
       "XLE  0.568935  0.486078  0.013976  0.279807  0.577852  0.051819  0.513660   \n",
       "\n",
       "          EWU       XLB       XLE  \n",
       "EEM  0.672301  0.649104  0.568935  \n",
       "EWG  0.755843  0.578469  0.486078  \n",
       "TIP  0.019481  0.014905  0.013976  \n",
       "EWJ  0.465718  0.380570  0.279807  \n",
       "EFA  0.892762  0.668360  0.577852  \n",
       "IEF  0.049787  0.058981  0.051819  \n",
       "EWQ  0.805883  0.579738  0.513660  \n",
       "EWU  0.999986  0.607580  0.507875  \n",
       "XLB  0.607580  0.999992  0.660015  \n",
       "XLE  0.507875  0.660015  0.999995  "
      ]
     },
     "execution_count": 10,
     "metadata": {},
     "output_type": "execute_result"
    }
   ],
   "source": [
    "# Calculating Optimal Transport distance between all stocks using a comonotone target copula\n",
    "ot_matrix_comonotone = ml.codependence.get_dependence_matrix(stocks_returns, dependence_method='optimal_transport', target_dependence='comonotonicity')\n",
    "\n",
    "print('Optimal Transport distance matrix using a comonotone target copula:')\n",
    "ot_matrix_comonotone"
   ]
  },
  {
   "cell_type": "code",
   "execution_count": 11,
   "metadata": {},
   "outputs": [],
   "source": [
    "# Calculating Optimal Transport distance between all stocks using a Gaussian target copula with ρ=0.5\n",
    "ot_matrix_gaussian = ml.codependence.get_dependence_matrix(stocks_returns, dependence_method='optimal_transport', target_dependence='gaussian', gaussian_corr=0.5)\n",
    "\n",
    "# Calculating Optimal Transport distance between all stocks using a positive and negative correlation target copula\n",
    "ot_matrix_positive_negative = ml.codependence.get_dependence_matrix(stocks_returns, dependence_method='optimal_transport', target_dependence='positive_negative')\n",
    "\n",
    "# Calculating Optimal Transport distance between all stocks using a target copula where one element has extreme variations and the second has small variations\n",
    "ot_matrix_diffvar = ml.codependence.get_dependence_matrix(stocks_returns, dependence_method='optimal_transport', target_dependence='different_variations')\n",
    "\n",
    "# Calculating Optimal Transport distance between all stocks using a Gaussian target copula with elements being positively correlated for small variations but uncorrelated otherwise\n",
    "ot_matrix_diffvar = ml.codependence.get_dependence_matrix(stocks_returns, dependence_method='optimal_transport', target_dependence='small_variations', var_threshold=0.2)"
   ]
  },
  {
   "cell_type": "markdown",
   "metadata": {},
   "source": [
    "### Heatmap of Optimal Transport distance using a comonotone target copula"
   ]
  },
  {
   "cell_type": "code",
   "execution_count": 12,
   "metadata": {},
   "outputs": [
    {
     "data": {
      "image/png": "[encoded data removed]",
      "text/plain": [
       "<Figure size 720x576 with 2 Axes>"
      ]
     },
     "metadata": {
      "needs_background": "light"
     },
     "output_type": "display_data"
    }
   ],
   "source": [
    "# Plotting the heatmap\n",
    "fig, ax = plt.subplots(figsize=(10, 8))\n",
    "sns.heatmap(ot_matrix_comonotone, ax = ax, cbar_kws={'label': 'OT distance'})\n",
    "\n",
    "ax.set_title('Heatmap of Optimal Transport distance using a comonotone target copula')\n",
    "plt.show()"
   ]
  },
  {
   "cell_type": "markdown",
   "metadata": {},
   "source": [
    "### Heatmap of Optimal Transport distance using a Gaussian target copula with ρ=0.5"
   ]
  },
  {
   "cell_type": "code",
   "execution_count": 13,
   "metadata": {},
   "outputs": [
    {
     "data": {
      "image/png": "[encoded data removed]",
      "text/plain": [
       "<Figure size 720x576 with 2 Axes>"
      ]
     },
     "metadata": {
      "needs_background": "light"
     },
     "output_type": "display_data"
    }
   ],
   "source": [
    "# Plotting the heatmap\n",
    "fig, ax = plt.subplots(figsize=(10,8))\n",
    "sns.heatmap(ot_matrix_gaussian, ax = ax, cbar_kws={'label': 'OT distance'})\n",
    "\n",
    "ax.set_title('Heatmap of Optimal Transport distance using a Gaussian target copula with ρ=0.5')\n",
    "plt.show()"
   ]
  },
  {
   "cell_type": "markdown",
   "metadata": {},
   "source": [
    "### Heatmap of Optimal Transport distance using a positive and negative correlation target copula"
   ]
  },
  {
   "cell_type": "code",
   "execution_count": 14,
   "metadata": {},
   "outputs": [
    {
     "data": {
      "image/png": "[encoded data removed]",
      "text/plain": [
       "<Figure size 720x576 with 2 Axes>"
      ]
     },
     "metadata": {
      "needs_background": "light"
     },
     "output_type": "display_data"
    }
   ],
   "source": [
    "# Plotting the heatmap\n",
    "fig, ax = plt.subplots(figsize=(10,8))\n",
    "sns.heatmap(ot_matrix_positive_negative, ax = ax, cbar_kws={'label': 'OT distance'})\n",
    "\n",
    "ax.set_title('Heatmap of Optimal Transport distance using a positive and negative correlation target copula')\n",
    "plt.show()"
   ]
  },
  {
   "cell_type": "markdown",
   "metadata": {},
   "source": [
    "### Heatmap of Optimal Transport distance using a target copula with one element has extreme variations and the second has small variations"
   ]
  },
  {
   "cell_type": "code",
   "execution_count": 15,
   "metadata": {},
   "outputs": [
    {
     "data": {
      "image/png": "[encoded data removed]",
      "text/plain": [
       "<Figure size 720x576 with 2 Axes>"
      ]
     },
     "metadata": {
      "needs_background": "light"
     },
     "output_type": "display_data"
    }
   ],
   "source": [
    "# Plotting the heatmap\n",
    "fig, ax = plt.subplots(figsize=(10,8))\n",
    "sns.heatmap(ot_matrix_diffvar, ax = ax, cbar_kws={'label': 'OT distance'})\n",
    "\n",
    "ax.set_title('Heatmap of Optimal Transport distance using a target copula where one element has extreme variations and the second has small variations')\n",
    "plt.show()"
   ]
  },
  {
   "cell_type": "markdown",
   "metadata": {},
   "source": [
    "### Heatmap of Optimal Transport distance using a Gaussian target copula with elements being positively correlated for small variations but uncorrelated otherwise"
   ]
  },
  {
   "cell_type": "code",
   "execution_count": 16,
   "metadata": {},
   "outputs": [
    {
     "data": {
      "image/png": "[encoded data removed]",
      "text/plain": [
       "<Figure size 720x576 with 2 Axes>"
      ]
     },
     "metadata": {
      "needs_background": "light"
     },
     "output_type": "display_data"
    }
   ],
   "source": [
    "# Plotting the heatmap\n",
    "fig, ax = plt.subplots(figsize=(10,8))\n",
    "sns.heatmap(ot_matrix_diffvar, ax = ax, cbar_kws={'label': 'OT distance'})\n",
    "\n",
    "ax.set_title('Heatmap of Optimal Transport distance using a Gaussian target copula with elements being positively correlated for small variations but uncorrelated otherwise')\n",
    "plt.show()"
   ]
  },
  {
   "cell_type": "markdown",
   "metadata": {},
   "source": [
    "As seen from the heat maps of OT distance matrices, various target copulas used in distances are showing specific characteristics of the assets. These measures can help uncover and better analyze relationships between assets."
   ]
  },
  {
   "cell_type": "markdown",
   "metadata": {},
   "source": [
    "---"
   ]
  },
  {
   "cell_type": "markdown",
   "metadata": {},
   "source": [
    "## Conclusion"
   ]
  },
  {
   "cell_type": "markdown",
   "metadata": {},
   "source": [
    "This notebook describes the Optimal Transport distance measure and how it may be used in real-life applications.  \n",
    "\n",
    "These distance measure was described by _Marti et al._ in the work __“Exploring and measuring non-linear correlations: Copulas, Lightspeed Transportation and Clustering.”__  [available here](https://arxiv.org/pdf/1610.09659.pdf).\n",
    "\n",
    "Key takeaways from the notebook:\n",
    "- Optimal Transport distance allows to measure distance between random elements in relation to different target copulas.\n",
    "- Optimal Transport distance is computationally heavy, so it may take some time to calculate the whole codependence matrix.\n",
    "- Supported target distances allow to answer the following questions:\n",
    "  - “Which pair of assets having ρ=0.7 correlation has the nearest copula to the Gaussian one?”\n",
    "  - “Which pairs of assets are both positively and negatively correlated?”\n",
    "  - “Which assets occur extreme variations while those of others are relatively small, and conversely?”\n",
    "  - “Which pairs of assets are positively correlated for small variations but uncorrelated otherwise?”\n",
    "- Results show that this distance measure can help uncover dependency types of a given set of elements.\n"
   ]
  },
  {
   "cell_type": "markdown",
   "metadata": {},
   "source": [
    "## Reference"
   ]
  },
  {
   "cell_type": "markdown",
   "metadata": {},
   "source": [
    "1. Marti, Gautier & Andler, Sébastien & Nielsen, Frank & Donnat, Philippe. (2016). Exploring and measuring non-linear correlations: Copulas, Lightspeed Transportation and Clustering.      Available at: https://arxiv.org/pdf/1610.09659.pdf\n",
    "\n",
    "2. Gautier Marti. (2020) Blog post: Measuring non-linear dependence with Optimal Transport. Available at: https://gmarti.gitlab.io/qfin/2020/06/25/copula-optimal-transport-dependence.html"
   ]
  }
 ],
 "metadata": {
  "kernelspec": {
   "display_name": "mlfinlab",
   "language": "python",
   "name": "mlfinlab"
  },
  "language_info": {
   "codemirror_mode": {
    "name": "ipython",
    "version": 3
   },
   "file_extension": ".py",
   "mimetype": "text/x-python",
   "name": "python",
   "nbconvert_exporter": "python",
   "pygments_lexer": "ipython3",
   "version": "3.7.7"
  }
 },
 "nbformat": 4,
 "nbformat_minor": 4
}
